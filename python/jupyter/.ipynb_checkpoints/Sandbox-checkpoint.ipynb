{
 "cells": [
  {
   "cell_type": "code",
   "execution_count": 1,
   "metadata": {
    "collapsed": true
   },
   "outputs": [],
   "source": [
    "import os,sys\n",
    "sys.path.append(\"../lib\")\n",
    "from libsoma import *\n",
    "from libsomacli import *\n"
   ]
  },
  {
   "cell_type": "code",
   "execution_count": 2,
   "metadata": {
    "collapsed": true
   },
   "outputs": [],
   "source": [
    "dictin={\"name\":\"Arjun\",\"work\":\"hacker\",\"place\":\"Kosi\"}\n",
    "jsonout=json.dumps(dictin)\n",
    "s=SoMAPost(jsonout)\n"
   ]
  },
  {
   "cell_type": "code",
   "execution_count": 8,
   "metadata": {},
   "outputs": [
    {
     "name": "stdout",
     "output_type": "stream",
     "text": [
      "[u'work', u'place', u'name']\n",
      "hacker\n"
     ]
    }
   ],
   "source": [
    "print s.dictionary.keys()\n",
    "print s.attributes.work"
   ]
  },
  {
   "cell_type": "code",
   "execution_count": 2,
   "metadata": {
    "collapsed": true
   },
   "outputs": [],
   "source": [
    "import facebook\n",
    "f=open(\"/opt/somaaccesstoken\")\n",
    "gapitoken=f.read().strip()\n",
    "graph = facebook.GraphAPI(gapitoken)\n"
   ]
  },
  {
   "cell_type": "code",
   "execution_count": 3,
   "metadata": {
    "collapsed": true
   },
   "outputs": [],
   "source": [
    "resp=graph.get_object('me')"
   ]
  },
  {
   "cell_type": "code",
   "execution_count": 4,
   "metadata": {},
   "outputs": [
    {
     "name": "stdout",
     "output_type": "stream",
     "text": [
      "{u'name': u'Soma Community', u'id': u'1051370315005909'}\n"
     ]
    }
   ],
   "source": [
    "print resp"
   ]
  },
  {
   "cell_type": "code",
   "execution_count": null,
   "metadata": {
    "scrolled": true
   },
   "outputs": [],
   "source": []
  },
  {
   "cell_type": "code",
   "execution_count": 7,
   "metadata": {},
   "outputs": [],
   "source": [
    " post_id=graph.put_object(parent_object='me', connection_name='feed',\n",
    "                  message='Really! Hello, world')"
   ]
  },
  {
   "cell_type": "code",
   "execution_count": 8,
   "metadata": {},
   "outputs": [
    {
     "name": "stdout",
     "output_type": "stream",
     "text": [
      "{u'id': u'1051370315005909_1051819898294284'}\n"
     ]
    }
   ],
   "source": [
    "print post_id"
   ]
  },
  {
   "cell_type": "code",
   "execution_count": 9,
   "metadata": {
    "collapsed": true
   },
   "outputs": [],
   "source": [
    "returnval=graph.put_like(object_id=post_id['id'])"
   ]
  },
  {
   "cell_type": "code",
   "execution_count": 10,
   "metadata": {
    "collapsed": true
   },
   "outputs": [],
   "source": [
    "returnval=graph.put_comment(object_id=post_id['id'], message='Great post...')"
   ]
  },
  {
   "cell_type": "code",
   "execution_count": 41,
   "metadata": {},
   "outputs": [],
   "source": [
    "returnval=graph.get_object(id=\"me/feed\")"
   ]
  },
  {
   "cell_type": "code",
   "execution_count": 37,
   "metadata": {},
   "outputs": [
    {
     "name": "stdout",
     "output_type": "stream",
     "text": [
      "{u'paging': {u'cursors': {u'after': u'Q2c4U1pXNTBYM0YxWlhKNVgzTjBiM0o1WDJsa0R5UXhNRFV4TXpjd016RTFNREExT1RBNU9qRTNNVEEyT1RNMk5qazJOekUyT0RVMk5USVBER0ZA3YVY5emRHOXllVjlwWkE4aE1UQTFNVE0zTURNeE5UQXdOVGt3T1Y4eE1EVXhPVEl3TURZANE1qZAzBNalkzRHdSMGFXMWxCbG4wVGRZAQgZDZD', u'before': u'Q2c4U1pXNTBYM0YxWlhKNVgzTjBiM0o1WDJsa0R5UXhNRFV4TXpjd016RTFNREExT1RBNU9qYzNNakkwTkRNNU9UVTNNVFk1TVRjek9ESVBER0ZA3YVY5emRHOXllVjlwWkE4aE1UQTFNVE0zTURNeE5UQXdOVGt3T1Y4eE1EVXhPVEkyTkRBeE5qRTJPVFkzRHdSMGFXMWxCbG4wVXJ3QgZDZD'}, u'next': u'https://graph.facebook.com/v2.10/1051370315005909/feed?access_token=EAACks6sLulMBAOrZCFAEzUuKz4LABIoycCy3eITqizvFXMjtZCMhccZC4ZBqeqIzdGCcHMGBssyon5ebL6zP8XDZAICSFy5Tf3ZBhKMgUHduATR4JcPFH82Lb2cTsZBLKPmmR8P1qr0pIR7ZCGytIWTDufXkQM9tuTPun3b1iQ9PdwZDZD&limit=25&after=Q2c4U1pXNTBYM0YxWlhKNVgzTjBiM0o1WDJsa0R5UXhNRFV4TXpjd016RTFNREExT1RBNU9qRTNNVEEyT1RNMk5qazJOekUyT0RVMk5USVBER0ZA3YVY5emRHOXllVjlwWkE4aE1UQTFNVE0zTURNeE5UQXdOVGt3T1Y4eE1EVXhPVEl3TURZANE1qZAzBNalkzRHdSMGFXMWxCbG4wVGRZAQgZDZD'}, u'data': [{u'created_time': u'2017-10-28T09:49:48+0000', u'message': u'Tempt not a desperate man.\\n -- William Shakespeare, \"Romeo and Juliet\"', u'id': u'1051370315005909_1051926401616967'}, {u'created_time': u'2017-10-28T09:48:56+0000', u'message': u'You will have a long and boring life.', u'id': u'1051370315005909_1051926171616990'}, {u'created_time': u'2017-10-28T09:48:04+0000', u'message': u'For courage mounteth with occasion.\\n -- William Shakespeare, \"King John\"', u'id': u'1051370315005909_1051925964950344'}, {u'created_time': u'2017-10-28T09:47:10+0000', u'message': u'You will overcome the attacks of jealous associates.', u'id': u'1051370315005909_1051925754950365'}, {u'created_time': u'2017-10-28T09:46:18+0000', u'message': u'Q: How many psychiatrists does it take to change a light bulb?\\nA: Only one, but it takes a long time, and the light bulb has\\n to really want to change.', u'id': u'1051370315005909_1051925538283720'}, {u'created_time': u'2017-10-28T09:45:26+0000', u'message': u'When you are about to die, a wombat is better than no company at all.\\n -- Roger Zelazny, \"Doorways in the Sand\"', u'id': u'1051370315005909_1051925148283759'}, {u'created_time': u'2017-10-28T09:44:33+0000', u'message': u'Do what comes naturally.  Seethe and fume and throw a tantrum.', u'id': u'1051370315005909_1051924834950457'}, {u'created_time': u'2017-10-28T09:43:41+0000', u'message': u'Remark of Dr. Baldwin\\'s concerning upstarts: We don\\'t care to eat toadstools\\nthat think they are truffles.\\n -- Mark Twain, \"Pudd\\'nhead Wilson\\'s Calendar\"', u'id': u'1051370315005909_1051924498283824'}, {u'created_time': u'2017-10-28T09:42:49+0000', u'message': u'Rebellion lay in his way, and he found it.\\n -- William Shakespeare, \"Henry IV\"', u'id': u'1051370315005909_1051924188283855'}, {u'created_time': u'2017-10-28T09:41:56+0000', u'message': u'Is that really YOU that is reading this?', u'id': u'1051370315005909_1051923968283877'}, {u'created_time': u'2017-10-28T09:41:04+0000', u'message': u'When angry, count four; when very angry, swear.\\n -- Mark Twain, \"Pudd\\'nhead Wilson\\'s Calendar\"', u'id': u'1051370315005909_1051923758283898'}, {u'created_time': u'2017-10-28T09:40:12+0000', u'message': u'Q: What do you call a principal female opera singer whose high C\\n is lower than those of other principal female opera singers?\\nA: A deep C diva.', u'id': u'1051370315005909_1051923518283922'}, {u'created_time': u'2017-10-28T09:39:20+0000', u'message': u'Your business will assume vast proportions.', u'id': u'1051370315005909_1051923294950611'}, {u'created_time': u'2017-10-28T09:38:28+0000', u'message': u'Your ignorance cramps my conversation.', u'id': u'1051370315005909_1051922944950646'}, {u'created_time': u'2017-10-28T09:37:36+0000', u'message': u\"Writing is turning one's worst moments into money.\\n -- J.P. Donleavy\", u'id': u'1051370315005909_1051922764950664'}, {u'created_time': u'2017-10-28T09:36:43+0000', u'message': u'Slow day.  Practice crawling.', u'id': u'1051370315005909_1051922634950677'}, {u'created_time': u'2017-10-28T09:35:51+0000', u'message': u'Unless hours were cups of sack, and minutes capons, and clocks the tongues\\nof bawds, and dials the signs of leaping houses, and the blessed sun himself\\na fair, hot wench in flame-colored taffeta, I see no reason why thou shouldst\\nbe so superfluous to demand the time of the day.  I wasted time and now doth\\ntime waste me.\\n -- William Shakespeare', u'id': u'1051370315005909_1051922501617357'}, {u'created_time': u'2017-10-28T09:34:59+0000', u'message': u\"Knock, knock!\\n Who's there?\\nSam and Janet.\\n Sam and Janet who?\\nSam and Janet Evening...\", u'id': u'1051370315005909_1051922251617382'}, {u'created_time': u'2017-10-28T09:34:07+0000', u'message': u'Q: What do monsters eat?\\nA: Things.\\n\\nQ: What do monsters drink?\\nA: Coke.  (Because Things go better with Coke.)', u'id': u'1051370315005909_1051922101617397'}, {u'created_time': u'2017-10-28T09:33:15+0000', u'message': u'Your manuscript is both good and original, but the part that is good is not\\noriginal and the part that is original is not good.\\n -- Samuel Johnson', u'id': u'1051370315005909_1051921711617436'}, {u'created_time': u'2017-10-28T09:32:23+0000', u'message': u'You are sick, twisted and perverted.  I like that in a person.', u'id': u'1051370315005909_1051921351617472'}, {u'created_time': u'2017-10-28T09:31:30+0000', u'message': u\"Don't tell any big lies today.  Small ones can be just as effective.\", u'id': u'1051370315005909_1051920948284179'}, {u'created_time': u'2017-10-28T09:30:38+0000', u'message': u'You will give someone a piece of your mind, which you can ill afford.', u'id': u'1051370315005909_1051920641617543'}, {u'created_time': u'2017-10-28T09:29:46+0000', u'message': u'You are farsighted, a good planner, an ardent lover, and a faithful friend.', u'id': u'1051370315005909_1051920314950909'}, {u'created_time': u'2017-10-28T09:28:54+0000', u'message': u'You have the power to influence all with whom you come in contact.', u'id': u'1051370315005909_1051920068284267'}]}\n"
     ]
    }
   ],
   "source": [
    "print returnval"
   ]
  },
  {
   "cell_type": "code",
   "execution_count": 29,
   "metadata": {},
   "outputs": [
    {
     "name": "stdout",
     "output_type": "stream",
     "text": [
      "{u'created_time': u'2017-10-28T07:40:19+0000', u'story': u'Soma Community updated their profile picture.', u'id': u'1051370315005909_1051887064954234'}\n",
      "{u'created_time': u'2017-10-28T04:59:03+0000', u'message': u'Really! Hello, world', u'id': u'1051370315005909_1051819898294284'}\n",
      "{u'created_time': u'2017-10-28T04:55:13+0000', u'message': u'Hello, world', u'id': u'1051370315005909_1051818831627724'}\n",
      "{u'created_time': u'2017-10-27T14:05:01+0000', u'message': u'Hello, world', u'id': u'1051370315005909_1051470938329180'}\n"
     ]
    }
   ],
   "source": [
    "for val in returnval['data']:\n",
    "    print val"
   ]
  },
  {
   "cell_type": "code",
   "execution_count": null,
   "metadata": {},
   "outputs": [],
   "source": [
    "for val in returnval['data']:\n",
    "    print graph.put_like(object_id=val['id'])"
   ]
  },
  {
   "cell_type": "code",
   "execution_count": null,
   "metadata": {},
   "outputs": [
    {
     "name": "stdout",
     "output_type": "stream",
     "text": [
      "Many enraged psychiatrists are inciting a weary butcher.  The butcher is\n",
      "weary and tired because he has cut meat and steak and lamb for hours and\n",
      "weeks.  He does not desire to chant about anything with raving psychiatrists,\n",
      "but he sings about his gingivectomist, he dreams about a single cosmologist,\n",
      "he thinks about his dog.  The dog is named Herbert.\n",
      "\t\t-- Racter, \"The Policeman's Beard is Half-Constructed\"\n",
      "{u'id': u'1051933118282962_1051935768282697'}\n",
      "Today is the tomorrow you worried about yesterday.\n",
      "{u'id': u'1051932508283023_1051935784949362'}\n",
      "You will have a long and unpleasant discussion with your supervisor.\n",
      "{u'id': u'1051931844949756_1051935798282694'}\n",
      "After your lover has gone you will still have PEANUT BUTTER!\n",
      "{u'id': u'1051931614949779_1051935818282692'}\n",
      "Q:\tWhy is Christmas just like a day at the office?\n",
      "A:\tYou do all of the work and the fat guy in the suit\n",
      "\tgets all the credit.\n",
      "{u'id': u'1051930971616510_1051935834949357'}\n",
      "The difference between a Miracle and a Fact is exactly the difference\n",
      "between a mermaid and a seal.\n",
      "\t\t-- Mark Twain\n",
      "{u'id': u'1051930858283188_1051935844949356'}\n",
      "Familiarity breeds contempt -- and children.\n",
      "\t\t-- Mark Twain\n",
      "{u'id': u'1051930561616551_1051935858282688'}\n",
      "Q:\tHow many IBM types does it take to change a light bulb?\n",
      "A:\tFifteen.  One to do it, and fourteen to write document number\n",
      "\tGC7500439-0001, Multitasking Incandescent Source System Facility,\n",
      "\tof which 10% of the pages state only \"This page intentionally\n",
      "\tleft blank\", and 20% of the definitions are of the form \"A:.....\n",
      "\tconsists of sequences of non-blank characters separated by blanks\".\n",
      "{u'id': u'1051930334949907_1051935874949353'}\n",
      "You should emulate your heros, but don't carry it too far.  Especially\n",
      "if they are dead.\n",
      "{u'id': u'1051930018283272_1051935898282684'}\n",
      "Just to have it is enough.\n",
      "{u'id': u'1051929804949960_1051935914949349'}\n",
      "Stay away from hurricanes for a while.\n",
      "{u'id': u'1051929564949984_1051935921616015'}\n",
      "Things past redress and now with me past care.\n",
      "\t\t-- William Shakespeare, \"Richard II\"\n",
      "{u'id': u'1051929334950007_1051935931616014'}\n",
      "Small things make base men proud.\n",
      "\t\t-- William Shakespeare, \"Henry VI\"\n",
      "{u'id': u'1051929168283357_1051935944949346'}\n",
      "You look tired.\n",
      "{u'id': u'1051928904950050_1051935961616011'}\n",
      "Many a writer seems to think he is never profound except when he can't\n",
      "understand his own meaning.\n",
      "\t\t-- George D. Prentice\n",
      "{u'id': u'1051928721616735_1051935971616010'}\n",
      "You will gain money by a fattening action.\n",
      "{u'id': u'1051928344950106_1051936001616007'}\n",
      "Steady movement is more important than speed, much of the time.  So long\n",
      "as there is a regular progression of stimuli to get your mental hooks\n",
      "into, there is room for lateral movement.  Once this begins, its rate is\n",
      "a matter of discretion.\n",
      "\t\t-- Corwin, Prince of Amber\n",
      "{u'id': u'1051928064950134_1051936021616005'}\n",
      "The man who sets out to carry a cat by its tail learns something that\n",
      "will always be useful and which never will grow dim or doubtful.\n",
      "\t\t-- Mark Twain\n",
      "{u'id': u'1051927728283501_1051936034949337'}\n",
      "Lord, what fools these mortals be!\n",
      "\t\t-- William Shakespeare, \"A Midsummer-Night's Dream\"\n",
      "{u'id': u'1051927514950189_1051936041616003'}\n",
      "You have the capacity to learn from mistakes.  You'll learn a lot today.\n",
      "{u'id': u'1051926401616967_1051936048282669'}\n",
      "You are fighting for survival in your own sweet and gentle way.\n",
      "{u'id': u'1051926171616990_1051936074949333'}\n",
      "You are magnetic in your bearing.\n",
      "{u'id': u'1051925964950344_1051936098282664'}\n",
      "You enjoy the company of other people.\n",
      "{u'id': u'1051925754950365_1051936148282659'}\n",
      "Many enraged psychiatrists are inciting a weary butcher.  The butcher is\n",
      "weary and tired because he has cut meat and steak and lamb for hours and\n",
      "weeks.  He does not desire to chant about anything with raving psychiatrists,\n",
      "but he sings about his gingivectomist, he dreams about a single cosmologist,\n",
      "he thinks about his dog.  The dog is named Herbert.\n",
      "\t\t-- Racter, \"The Policeman's Beard is Half-Constructed\"\n",
      "{u'id': u'1051925538283720_1051936228282651'}\n",
      "A visit to a fresh place will bring strange work.\n",
      "{u'id': u'1051925148283759_1051936248282649'}\n"
     ]
    }
   ],
   "source": [
    "import os\n",
    "for val in returnval['data']:\n",
    "    #print graph.put_like(object_id=val['id'])\n",
    "    comment=os.popen(\"fortune\").read().strip()\n",
    "    print comment\n",
    "    print graph.put_comment(object_id=val['id'],message=comment)\n",
    "    "
   ]
  },
  {
   "cell_type": "code",
   "execution_count": null,
   "metadata": {},
   "outputs": [
    {
     "name": "stdout",
     "output_type": "stream",
     "text": [
      "Suspicion always haunts the guilty mind.\n",
      "\t\t-- Wm. Shakespeare\n",
      "The Bulwer-Lytton fiction contest is held ever year at San Jose State\n",
      "Univ.  by Professor Scott Rice.  It is held in memory of Edward George\n",
      "Earle Bulwer-Lytton (1803-1873), a rather prolific and popular (in his\n",
      "time) novelist.  He is best known today for having written \"The Last\n",
      "Days of Pompeii.\"\n",
      "\n",
      "Whenever Snoopy starts typing his novel from the top of his doghouse,\n",
      "beginning \"It was a dark and stormy night...\" he is borrowing from Lord\n",
      "Bulwer-Lytton.  This was the line that opened his novel, \"Paul Clifford,\"\n",
      "written in 1830.  The full line reveals why it is so bad:\n",
      "\n",
      "\tIt was a dark and stormy night; the rain fell in torrents -- except\n",
      "\tat occasional intervals, when it was checked by a violent gust of\n",
      "\twind which swept up the streets (for it is in London that our scene\n",
      "\tlies), rattling along the housetops, and fiercely agitating the scanty\n",
      "\tflame of the lamps that struggled against the darkness.\n",
      "What I tell you three times is true.\n",
      "\t\t-- Lewis Carroll\n",
      "You have an unusual understanding of the problems of human relationships.\n",
      "You plan things that you do not even attempt because of your extreme caution.\n",
      "F.S. Fitzgerald to Hemingway:\n",
      "\t\"Ernest, the rich are different from us.\"\n",
      "Hemingway:\n",
      "\t\"Yes.  They have more money.\"\n",
      "\"...The name of the song is called 'Haddocks' Eyes'!\"\n",
      "\t\"Oh, that's the name of the song, is it?\" Alice said, trying to\n",
      "feel interested.\n",
      "\t\"No, you don't understand,\" the Knight said, looking a little\n",
      "vexed.  \"That's what the name is called.  The name really is, 'The Aged\n",
      "Aged Man.'\"\n",
      "\t\"Then I ought to have said \"That's what the song is called'?\"\n",
      "Alice corrected herself.\n",
      "\t\"No, you oughtn't: that's quite another thing!  The song is\n",
      "called 'Ways and Means':  but that's only what it is called you know!\"\n",
      "\t\"Well, what is the song then?\" said Alice, who was by this\n",
      "time completely bewildered.\n",
      "\t\"I was coming to that,\" the Knight said.  \"The song really is\n",
      "\"A-sitting on a Gate\": and the tune's my own invention.\"\n",
      "\t\t-- Lewis Carroll, \"Through the Looking Glass\"\n",
      "You plan things that you do not even attempt because of your extreme caution.\n",
      "You tread upon my patience.\n",
      "\t\t-- William Shakespeare, \"Henry IV\"\n",
      "Q:\tWhat do you call a blind pre-historic animal?\n",
      "A:\tDiyathinkhesaurus.\n",
      "\n",
      "Q:\tWhat do you call a blind pre-historic animal with a dog?\n",
      "A:\tDiyathinkhesaurus Rex.\n",
      "Hain't we got all the fools in town on our side?  And hain't that a big\n",
      "enough majority in any town?\n",
      "\t\t-- Mark Twain, \"Huckleberry Finn\"\n",
      "Today is the last day of your life so far.\n",
      "Q:\tWhat looks like a cat, flies like a bat, brays like a donkey, and\n",
      "\tplays like a monkey?\n",
      "A:\tNothing.\n",
      "Your boss is a few sandwiches short of a picnic.\n",
      "While you recently had your problems on the run, they've regrouped and\n",
      "are making another attack.\n",
      "Q:\tWhat do you have when you have a lawyer buried up to his neck in sand?\n",
      "A:\tNot enough sand.\n",
      "You're not my type.  For that matter, you're not even my species!!!\n",
      "The Priest's grey nimbus in a niche where he dressed discreetly.\n",
      "I will not sleep here tonight. Home also I cannot go.\n",
      "\tA voice, sweetened and sustained, called to him from the sea.\n",
      "Turning the curve he waved his hand.  A sleek brown head, a seal's, far\n",
      "out on the water, round.  Usurper.\n",
      "\t\t-- James Joyce, \"Ulysses\"\n",
      "Q:\tWhere's the Lone Ranger take his garbage?\n",
      "A:\tTo the dump, to the dump, to the dump dump dump!\n",
      "\n",
      "Q:\tWhat's the Pink Panther say when he steps on an ant hill?\n",
      "A:\tDead ant, dead ant, dead ant dead ant dead ant...\n",
      "You will never know hunger.\n",
      "\"You have been in Afghanistan, I perceive.\"\n",
      "\t\t-- Sir Arthur Conan Doyle, \"A Study in Scarlet\"\n",
      "For the fashion of Minas Tirith was such that it was built on seven levels,\n",
      "each delved into a hill, and about each was set a wall, and in each wall\n",
      "was a gate.\n",
      "\t\t-- J.R.R. Tolkien, \"The Return of the King\"\n",
      "\n",
      "\t[Quoted in \"VMS Internals and Data Structures\", V4.4, when\n",
      "\t referring to system overview.]\n",
      "Your lucky color has faded.\n",
      "You are capable of planning your future.\n",
      "You will experience a strong urge to do good; but it will pass.\n"
     ]
    }
   ],
   "source": [
    "import time\n",
    "post_ids=[]\n",
    "while True:\n",
    "    post=os.popen(\"fortune\").read().strip()\n",
    "    print post\n",
    "    post_id=graph.put_object(parent_object='me', connection_name='feed', message=post)\n",
    "    post_ids.append(post_id)\n",
    "    if len(post_ids)<50:\n",
    "        time.sleep(50)\n",
    "    else:\n",
    "        break\n",
    "    "
   ]
  },
  {
   "cell_type": "code",
   "execution_count": null,
   "metadata": {
    "collapsed": true
   },
   "outputs": [],
   "source": []
  }
 ],
 "metadata": {
  "kernelspec": {
   "display_name": "Python 2",
   "language": "python",
   "name": "python2"
  },
  "language_info": {
   "codemirror_mode": {
    "name": "ipython",
    "version": 2
   },
   "file_extension": ".py",
   "mimetype": "text/x-python",
   "name": "python",
   "nbconvert_exporter": "python",
   "pygments_lexer": "ipython2",
   "version": "2.7.12"
  }
 },
 "nbformat": 4,
 "nbformat_minor": 2
}
